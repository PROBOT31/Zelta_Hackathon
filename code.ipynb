import pandas as pd
import numpy as np
from scipy.stats import percentileofscore
from pykalman import KalmanFilter
from google.colab import files, drive  # Required for downloading in Colab

drive.mount('/content/drive')

def load_data(filepath):
    df = pd.read_csv(filepath)
    df['datetime'] = pd.to_datetime(df['datetime'], errors='coerce')
    df = df.set_index('datetime')
    return df

def preprocess_data(df, start_date='2019-10-01', end_date='2023-12-31'):
    df = df.loc[start_date:end_date]
    df = df[~df.duplicated()]
    df['price_change'] = df['close'].diff()
    df['market_cap'] = df['close'] * 19000000
    df['90D_VMA'] = df['volume'].rolling(window=90).mean()
    df['NVTS'] = df['market_cap'] / df['90D_VMA']
    return df

def calculate_indicators(data, window_nvts=90):
    kf = KalmanFilter(initial_state_mean=0, n_dim_obs=1)
    nvts_values = data['NVTS'].fillna(method='ffill').values.reshape(-1, 1)
    filtered_state_means, _ = kf.filter(nvts_values)
    data['NVTS_Kalman'] = filtered_state_means.flatten()
    
    data['NVTS_Upper'] = data['NVTS'].rolling(window=window_nvts, min_periods=1).quantile(0.90)
    data['NVTS_Lower'] = data['NVTS'].rolling(window=window_nvts, min_periods=1).quantile(0.10)
    data['EMA_12'] = data['close'].ewm(span=12, adjust=False).mean()
    data['EMA_26'] = data['close'].ewm(span=26, adjust=False).mean()
    data['MACD'] = data['EMA_12'] - data['EMA_26']
    data['Signal_Line'] = data['MACD'].ewm(span=9, adjust=False).mean()
    return data

def get_atr_multiplier(current_atr, atr_history):
    percentile = percentileofscore(atr_history.dropna(), current_atr)
    return 2.5 if percentile <= 20 else (1.0 if percentile >= 80 else 1.5)

def generate_signals(data):
    data = calculate_indicators(data)
    trend_bull = data['MACD'] > data['Signal_Line']
    trend_bear = data['MACD'] < data['Signal_Line']
    
    buy_condition = (data['NVTS_Kalman'] < data['NVTS_Lower']) & trend_bull
    sell_condition = (data['NVTS_Kalman'] > data['NVTS_Upper']) & trend_bear
    
    signals, trade_types, tps, sls = [], [], [], []
    open_trade = 0
    
    for i in range(len(data)):
        buy_cond, sell_cond = buy_condition.iloc[i], sell_condition.iloc[i]
        current_signal = 0
        
        if buy_cond and open_trade == 0:
            current_signal = 1
            open_trade = 1
        elif sell_cond and open_trade == 0:
            current_signal = -1
            open_trade = -1
        
        signals.append(current_signal)
        trade_types.append("Long" if current_signal == 1 else "Short" if current_signal == -1 else "None")
        
        current_atr = data['ATR'].iloc[i] if 'ATR' in data else 0
        multiplier = get_atr_multiplier(current_atr, data['ATR']) if 'ATR' in data else 1.5
        entry_price = data['close'].iloc[i]
        
        tp = entry_price + multiplier * current_atr if current_signal == 1 else entry_price - multiplier * current_atr
        sl = entry_price - multiplier * current_atr if current_signal == 1 else entry_price + multiplier * current_atr
        tps.append(tp)
        sls.append(sl)
    
    data['signals'], data['trade_type'], data['TP'], data['SL'] = signals, trade_types, tps, sls
    return data

def save_and_download_data(df, filename):
    df.to_csv(filename, index=True)
    files.download(filename)

def main():
    dataset_path = '/content/drive/MyDrive/data_2020_2023/BTC_2019_2023_1h.csv'
    df = load_data(dataset_path)
    df = preprocess_data(df)
    df = generate_signals(df)
    output_path = '/content/strategy_output.csv'
    save_and_download_data(df, output_path)

if __name__ == "__main__":
    main()

#backtest code
from untrade.client import Client

def perform_backtest(csv_file_path):
    client = Client()
    result = client.backtest(
        file_path=csv_file_path,
        leverage=1,
        jupyter_id="screening",
    )
    return result

if __name__ == "__main__":
    # Path to the strategy output file
    csv_file_path = output_signal_path
    backtest_result = perform_backtest(csv_file_path)
    for value in backtest_result:
        print(value)

